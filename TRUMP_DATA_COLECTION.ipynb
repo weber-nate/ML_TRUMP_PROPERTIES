{
 "cells": [
  {
   "cell_type": "code",
   "execution_count": 1,
   "metadata": {
    "collapsed": true
   },
   "outputs": [],
   "source": [
    "import pandas as pd"
   ]
  },
  {
   "cell_type": "code",
   "execution_count": 2,
   "metadata": {
    "collapsed": true
   },
   "outputs": [],
   "source": [
    "# Trump owned buildings identified from:\n",
    "# https://www.bisnow.com/new-york/news/economy/how-big-is-trumps-nyc-empire-63995?single-page\n",
    "\n",
    "# BIN NUMBER\n",
    "_40_WALL_ST = '1001018' # TRUMP_BUILDING\n",
    "_1290_AVENUE_OF_THE_AMERICAS = '1034510' # _1290_AVENUE_OF_THE_AMERICAS 30% Stake in Vornado owned building\n",
    "_1_CENTRAL_PARK_WEST = '1027191' # TRUMP_INTERNATIONAL_HOTEL_AND_TOWER\n",
    "_725_5TH_AVE = '1035794' # TRUMP_TOWER\n",
    "_246_SPRING_ST = '1088431' # TRUMP_SOHO\n",
    "_502_PARK_AVE = '1040756' # TRUMP_PARK_AVE\n",
    "_327_E_47TH_ST = '1038908' # TRUMP_WORLD_TOWER\n",
    "_200_E_69TH_ST = '1043902' # TRUMP_PALACE\n",
    "_106_CENTRAL_PARK_S = '1069595' # TRUMP_PARC\n",
    "_610_PARK_AVE = '1041086' # _610_PARK_AVE\n",
    "# Wollman Rink - Central Park (Not a building)"
   ]
  },
  {
   "cell_type": "code",
   "execution_count": null,
   "metadata": {
    "collapsed": true
   },
   "outputs": [],
   "source": []
  }
 ],
 "metadata": {
  "kernelspec": {
   "display_name": "Python 2",
   "language": "python",
   "name": "python2"
  },
  "language_info": {
   "codemirror_mode": {
    "name": "ipython",
    "version": 2
   },
   "file_extension": ".py",
   "mimetype": "text/x-python",
   "name": "python",
   "nbconvert_exporter": "python",
   "pygments_lexer": "ipython2",
   "version": "2.7.13"
  }
 },
 "nbformat": 4,
 "nbformat_minor": 2
}
