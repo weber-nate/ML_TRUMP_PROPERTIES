{
 "cells": [
  {
   "cell_type": "code",
   "execution_count": 1,
   "metadata": {
    "collapsed": true
   },
   "outputs": [],
   "source": [
    "import pandas as pd"
   ]
  },
  {
   "cell_type": "code",
   "execution_count": null,
   "metadata": {
    "collapsed": true
   },
   "outputs": [],
   "source": []
  },
  {
   "cell_type": "code",
   "execution_count": 2,
   "metadata": {
    "collapsed": true
   },
   "outputs": [],
   "source": [
    "# Trump owned buildings identified from:\n",
    "# https://www.bisnow.com/new-york/news/economy/how-big-is-trumps-nyc-empire-63995?single-page\n",
    "\n",
    "# BIN NUMBER\n",
    "_40_WALL_ST = '1001018' # TRUMP_BUILDING\n",
    "_1290_AVENUE_OF_THE_AMERICAS = '1034510' # _1290_AVENUE_OF_THE_AMERICAS 30% Stake in Vornado owned building\n",
    "_1_CENTRAL_PARK_WEST = '1027191' # TRUMP_INTERNATIONAL_HOTEL_AND_TOWER\n",
    "_725_5TH_AVE = '1035794' # TRUMP_TOWER\n",
    "_246_SPRING_ST = '1088431' # TRUMP_SOHO\n",
    "_502_PARK_AVE = '1040756' # TRUMP_PARK_AVE\n",
    "_327_E_47TH_ST = '1038908' # TRUMP_WORLD_TOWER\n",
    "_200_E_69TH_ST = '1043902' # TRUMP_PALACE\n",
    "_106_CENTRAL_PARK_S = '1069595' # TRUMP_PARC\n",
    "_610_PARK_AVE = '1041086' # _610_PARK_AVE\n",
    "\n",
    "TRUMP_BUILDINGS = [_106_CENTRAL_PARK_S, _1290_AVENUE_OF_THE_AMERICAS, \n",
    "                   _1_CENTRAL_PARK_WEST, _200_E_69TH_ST, _246_SPRING_ST, \n",
    "                   _327_E_47TH_ST, _40_WALL_ST, _502_PARK_AVE,\n",
    "                   _610_PARK_AVE, _725_5TH_AVE]\n",
    "# Wollman Rink - Central Park (Not a building)"
   ]
  },
  {
   "cell_type": "code",
   "execution_count": 3,
   "metadata": {
    "collapsed": true
   },
   "outputs": [],
   "source": [
    "# DOB ECB BUILDING VIOLATION DATA\n",
    "DOB_ECB = 'data/20170322_DOB_ECB_Violations.csv'"
   ]
  },
  {
   "cell_type": "code",
   "execution_count": 4,
   "metadata": {
    "collapsed": false
   },
   "outputs": [
    {
     "name": "stderr",
     "output_type": "stream",
     "text": [
      "/Users/Nate/anaconda3/envs/py27/lib/python2.7/site-packages/IPython/core/interactiveshell.py:2717: DtypeWarning: Columns (6) have mixed types. Specify dtype option on import or set low_memory=False.\n",
      "  interactivity=interactivity, compiler=compiler, result=result)\n"
     ]
    }
   ],
   "source": [
    "DOB_ECB_DF = pd.read_csv(DOB_ECB, usecols=['BIN', 'ISSUE_DATE', 'SEVERITY', \n",
    "                                           'PENALITY_IMPOSED', 'AMOUNT_PAID', \n",
    "                                           'BALANCE_DUE', 'ECB_VIOLATION_STATUS', \n",
    "                                           'BORO', 'BLOCK', 'LOT', 'VIOLATION_DESCRIPTION',\n",
    "                                           'INFRACTION_CODE1'],\n",
    "                         dtype={'BIN': str, 'PENALITY_IMPOSED': float,\n",
    "                                'AMOUNT_PAID': float, 'BALANCE_DUE': float}) "
   ]
  },
  {
   "cell_type": "code",
   "execution_count": 16,
   "metadata": {
    "collapsed": false
   },
   "outputs": [
    {
     "name": "stdout",
     "output_type": "stream",
     "text": [
      "\"TRUMP PROPERTIES\" WITH FINES 181\n",
      "PENALITY IMPOSED 183425.0\n",
      "AMOUNT_PAID 177357.27\n",
      "OUTSTANDING BALANCE 765.34\n"
     ]
    }
   ],
   "source": [
    "# Only 181 FINES associated with trump buildings\n",
    "\n",
    "print '\"TRUMP PROPERTIES\" WITH FINES', len(DOB_ECB_DF[(DOB_ECB_DF['PENALITY_IMPOSED'] > 0) & (DOB_ECB_DF['BIN'].isin(TRUMP_BUILDINGS))])\n",
    "print 'PENALITY IMPOSED', DOB_ECB_DF[(DOB_ECB_DF['PENALITY_IMPOSED'] > 0) & (DOB_ECB_DF['BIN'].isin(TRUMP_BUILDINGS))]['PENALITY_IMPOSED'].sum()\n",
    "print 'AMOUNT_PAID', DOB_ECB_DF[(DOB_ECB_DF['PENALITY_IMPOSED'] > 0) & (DOB_ECB_DF['BIN'].isin(TRUMP_BUILDINGS))]['AMOUNT_PAID'].sum()\n",
    "print 'OUTSTANDING BALANCE', DOB_ECB_DF[(DOB_ECB_DF['PENALITY_IMPOSED'] > 0) & (DOB_ECB_DF['BIN'].isin(TRUMP_BUILDINGS))]['BALANCE_DUE'].sum()"
   ]
  },
  {
   "cell_type": "code",
   "execution_count": 20,
   "metadata": {
    "collapsed": false
   },
   "outputs": [
    {
     "data": {
      "text/plain": [
       "748325710.25"
      ]
     },
     "execution_count": 20,
     "metadata": {},
     "output_type": "execute_result"
    }
   ],
   "source": [
    "# VIOLATIONS WITH A BALANCE DUE\n",
    "DOB_ECB_DF[DOB_ECB_DF['BALANCE_DUE'] > 0]['BALANCE_DUE'].sum()"
   ]
  },
  {
   "cell_type": "code",
   "execution_count": 21,
   "metadata": {
    "collapsed": false
   },
   "outputs": [
    {
     "data": {
      "text/plain": [
       "1669745657.52"
      ]
     },
     "execution_count": 21,
     "metadata": {},
     "output_type": "execute_result"
    }
   ],
   "source": [
    "# TOTAL PENALITIES VALUE\n",
    "DOB_ECB_DF['PENALITY_IMPOSED'].sum()"
   ]
  },
  {
   "cell_type": "code",
   "execution_count": 22,
   "metadata": {
    "collapsed": false
   },
   "outputs": [
    {
     "data": {
      "text/plain": [
       "616422508.6099999"
      ]
     },
     "execution_count": 22,
     "metadata": {},
     "output_type": "execute_result"
    }
   ],
   "source": [
    "# FINES PAID\n",
    "DOB_ECB_DF['AMOUNT_PAID'].sum()"
   ]
  },
  {
   "cell_type": "code",
   "execution_count": null,
   "metadata": {
    "collapsed": true
   },
   "outputs": [],
   "source": []
  }
 ],
 "metadata": {
  "kernelspec": {
   "display_name": "Python 2",
   "language": "python",
   "name": "python2"
  },
  "language_info": {
   "codemirror_mode": {
    "name": "ipython",
    "version": 2
   },
   "file_extension": ".py",
   "mimetype": "text/x-python",
   "name": "python",
   "nbconvert_exporter": "python",
   "pygments_lexer": "ipython2",
   "version": "2.7.13"
  }
 },
 "nbformat": 4,
 "nbformat_minor": 2
}
