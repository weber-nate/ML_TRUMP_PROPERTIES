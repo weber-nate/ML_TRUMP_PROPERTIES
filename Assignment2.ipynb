{
 "cells": [
  {
   "cell_type": "code",
   "execution_count": 1,
   "metadata": {
    "collapsed": false
   },
   "outputs": [
    {
     "name": "stdout",
     "output_type": "stream",
     "text": [
      "Populating the interactive namespace from numpy and matplotlib\n"
     ]
    }
   ],
   "source": [
    "import numpy as np   # basic numeric module in python, for array and matrix computation\n",
    "import pandas as pd  # advanced numeric module, excels in data frame analysis\n",
    "import matplotlib.pyplot as plt  # for data visualization\n",
    "%pylab inline\n",
    "# so the plots are embedded in notebook rather than a stand alone window\n",
    "\n",
    "from mpl_toolkits.mplot3d import Axes3D  # for 3D plot\n",
    "import statsmodels.formula.api as smf    # for OLS regression\n",
    "from sklearn.decomposition import PCA\n",
    "from sklearn import naive_bayes\n",
    "from sklearn import svm\n",
    "from sklearn.model_selection import train_test_split\n",
    "from sklearn.preprocessing import MinMaxScaler\n",
    "\n",
    "\n",
    "import warnings\n",
    "warnings.filterwarnings('ignore')"
   ]
  },
  {
   "cell_type": "code",
   "execution_count": 2,
   "metadata": {
    "collapsed": true
   },
   "outputs": [],
   "source": [
    "dfred = pd.read_csv('winequality-red.csv', delimiter=';')\n",
    "dfwhite = pd.read_csv('winequality-white.csv', delimiter=';')"
   ]
  },
  {
   "cell_type": "code",
   "execution_count": 3,
   "metadata": {
    "collapsed": false
   },
   "outputs": [
    {
     "data": {
      "text/plain": [
       "array([ True,  True,  True,  True,  True,  True,  True,  True,  True,\n",
       "        True,  True,  True], dtype=bool)"
      ]
     },
     "execution_count": 3,
     "metadata": {},
     "output_type": "execute_result"
    }
   ],
   "source": [
    "dfred.columns == dfwhite.columns"
   ]
  },
  {
   "cell_type": "code",
   "execution_count": 4,
   "metadata": {
    "collapsed": false
   },
   "outputs": [
    {
     "data": {
      "text/plain": [
       "Index([u'fixed acidity', u'volatile acidity', u'citric acid',\n",
       "       u'residual sugar', u'chlorides', u'free sulfur dioxide',\n",
       "       u'total sulfur dioxide', u'density', u'pH', u'sulphates', u'alcohol',\n",
       "       u'quality'],\n",
       "      dtype='object')"
      ]
     },
     "execution_count": 4,
     "metadata": {},
     "output_type": "execute_result"
    }
   ],
   "source": [
    "df = pd.concat([dfred, dfwhite])\n",
    "df.columns"
   ]
  },
  {
   "cell_type": "code",
   "execution_count": 5,
   "metadata": {
    "collapsed": false
   },
   "outputs": [
    {
     "data": {
      "text/html": [
       "<div>\n",
       "<table border=\"1\" class=\"dataframe\">\n",
       "  <thead>\n",
       "    <tr style=\"text-align: right;\">\n",
       "      <th></th>\n",
       "      <th>fixed acidity</th>\n",
       "      <th>volatile acidity</th>\n",
       "      <th>citric acid</th>\n",
       "      <th>residual sugar</th>\n",
       "      <th>chlorides</th>\n",
       "      <th>free sulfur dioxide</th>\n",
       "      <th>total sulfur dioxide</th>\n",
       "      <th>density</th>\n",
       "      <th>pH</th>\n",
       "      <th>sulphates</th>\n",
       "      <th>alcohol</th>\n",
       "      <th>quality</th>\n",
       "    </tr>\n",
       "  </thead>\n",
       "  <tbody>\n",
       "    <tr>\n",
       "      <th>0</th>\n",
       "      <td>7.4</td>\n",
       "      <td>0.70</td>\n",
       "      <td>0.00</td>\n",
       "      <td>1.9</td>\n",
       "      <td>0.076</td>\n",
       "      <td>11.0</td>\n",
       "      <td>34.0</td>\n",
       "      <td>0.9978</td>\n",
       "      <td>3.51</td>\n",
       "      <td>0.56</td>\n",
       "      <td>9.4</td>\n",
       "      <td>5</td>\n",
       "    </tr>\n",
       "    <tr>\n",
       "      <th>1</th>\n",
       "      <td>7.8</td>\n",
       "      <td>0.88</td>\n",
       "      <td>0.00</td>\n",
       "      <td>2.6</td>\n",
       "      <td>0.098</td>\n",
       "      <td>25.0</td>\n",
       "      <td>67.0</td>\n",
       "      <td>0.9968</td>\n",
       "      <td>3.20</td>\n",
       "      <td>0.68</td>\n",
       "      <td>9.8</td>\n",
       "      <td>5</td>\n",
       "    </tr>\n",
       "    <tr>\n",
       "      <th>2</th>\n",
       "      <td>7.8</td>\n",
       "      <td>0.76</td>\n",
       "      <td>0.04</td>\n",
       "      <td>2.3</td>\n",
       "      <td>0.092</td>\n",
       "      <td>15.0</td>\n",
       "      <td>54.0</td>\n",
       "      <td>0.9970</td>\n",
       "      <td>3.26</td>\n",
       "      <td>0.65</td>\n",
       "      <td>9.8</td>\n",
       "      <td>5</td>\n",
       "    </tr>\n",
       "    <tr>\n",
       "      <th>3</th>\n",
       "      <td>11.2</td>\n",
       "      <td>0.28</td>\n",
       "      <td>0.56</td>\n",
       "      <td>1.9</td>\n",
       "      <td>0.075</td>\n",
       "      <td>17.0</td>\n",
       "      <td>60.0</td>\n",
       "      <td>0.9980</td>\n",
       "      <td>3.16</td>\n",
       "      <td>0.58</td>\n",
       "      <td>9.8</td>\n",
       "      <td>6</td>\n",
       "    </tr>\n",
       "    <tr>\n",
       "      <th>4</th>\n",
       "      <td>7.4</td>\n",
       "      <td>0.70</td>\n",
       "      <td>0.00</td>\n",
       "      <td>1.9</td>\n",
       "      <td>0.076</td>\n",
       "      <td>11.0</td>\n",
       "      <td>34.0</td>\n",
       "      <td>0.9978</td>\n",
       "      <td>3.51</td>\n",
       "      <td>0.56</td>\n",
       "      <td>9.4</td>\n",
       "      <td>5</td>\n",
       "    </tr>\n",
       "  </tbody>\n",
       "</table>\n",
       "</div>"
      ],
      "text/plain": [
       "   fixed acidity  volatile acidity  citric acid  residual sugar  chlorides  \\\n",
       "0            7.4              0.70         0.00             1.9      0.076   \n",
       "1            7.8              0.88         0.00             2.6      0.098   \n",
       "2            7.8              0.76         0.04             2.3      0.092   \n",
       "3           11.2              0.28         0.56             1.9      0.075   \n",
       "4            7.4              0.70         0.00             1.9      0.076   \n",
       "\n",
       "   free sulfur dioxide  total sulfur dioxide  density    pH  sulphates  \\\n",
       "0                 11.0                  34.0   0.9978  3.51       0.56   \n",
       "1                 25.0                  67.0   0.9968  3.20       0.68   \n",
       "2                 15.0                  54.0   0.9970  3.26       0.65   \n",
       "3                 17.0                  60.0   0.9980  3.16       0.58   \n",
       "4                 11.0                  34.0   0.9978  3.51       0.56   \n",
       "\n",
       "   alcohol  quality  \n",
       "0      9.4        5  \n",
       "1      9.8        5  \n",
       "2      9.8        5  \n",
       "3      9.8        6  \n",
       "4      9.4        5  "
      ]
     },
     "execution_count": 5,
     "metadata": {},
     "output_type": "execute_result"
    }
   ],
   "source": [
    "#Random Numbers to remove from data frame\n",
    "df.head()"
   ]
  },
  {
   "cell_type": "code",
   "execution_count": 6,
   "metadata": {
    "collapsed": true
   },
   "outputs": [],
   "source": [
    "X = df.iloc[:,:-1] #independent variables\n",
    "Y = df.iloc[:,-1] #dependent variable (classification) is the _golden column"
   ]
  },
  {
   "cell_type": "code",
   "execution_count": 7,
   "metadata": {
    "collapsed": false
   },
   "outputs": [],
   "source": [
    "X = MinMaxScaler().fit_transform(X)"
   ]
  },
  {
   "cell_type": "code",
   "execution_count": 8,
   "metadata": {
    "collapsed": false
   },
   "outputs": [],
   "source": [
    "Y = Y.as_matrix()"
   ]
  },
  {
   "cell_type": "markdown",
   "metadata": {},
   "source": [
    "# Naive Bayes"
   ]
  },
  {
   "cell_type": "code",
   "execution_count": 9,
   "metadata": {
    "collapsed": false
   },
   "outputs": [],
   "source": [
    "def naive(X_train, Y_train, X_test, Y_test, ts): \n",
    "    nb = naive_bayes.GaussianNB()\n",
    "    nb.fit(X_train,Y_train)\n",
    "\n",
    "    ypred_nb = nb.predict(X_test)\n",
    "\n",
    "    e_nb = np.sum((ypred_nb[i] != Y_test[i]) for i in range(0,ts))\n",
    "\n",
    "    perrornb = float(e_nb)/ts\n",
    "    return perrornb"
   ]
  },
  {
   "cell_type": "code",
   "execution_count": null,
   "metadata": {
    "collapsed": false
   },
   "outputs": [],
   "source": []
  },
  {
   "cell_type": "markdown",
   "metadata": {},
   "source": [
    "# SVM Linear Kernel"
   ]
  },
  {
   "cell_type": "code",
   "execution_count": 10,
   "metadata": {
    "collapsed": false
   },
   "outputs": [],
   "source": [
    "def svml(X_train, Y_train, X_test, Y_test, ts):  \n",
    "    svm_linear = svm.SVC(kernel='linear')\n",
    "    svm_linear.fit(X_train,Y_train)\n",
    "\n",
    "    ypred_svm_linear = svm_linear.predict(X_test)\n",
    "\n",
    "    e_svm_linear = np.sum((ypred_svm_linear[i] != Y_test[i]) for i in range(0,ts))\n",
    "    pererrorsvml = float(e_svm_linear)/ts\n",
    "    return perrorsvml"
   ]
  },
  {
   "cell_type": "code",
   "execution_count": null,
   "metadata": {
    "collapsed": true
   },
   "outputs": [],
   "source": []
  },
  {
   "cell_type": "markdown",
   "metadata": {},
   "source": [
    "# SVM RBF Kernel"
   ]
  },
  {
   "cell_type": "code",
   "execution_count": 11,
   "metadata": {
    "collapsed": false
   },
   "outputs": [],
   "source": [
    "def gammachoice(X_train, Y_train, X_test, Y_test, ts, step):  \n",
    "    l=[]\n",
    "    for g in range(1,250, step):\n",
    "        svm_rbf = svm.SVC(kernel='rbf', gamma=float(g))\n",
    "        svm_rbf.fit(X_train,Y_train)\n",
    "        ypred_svm_rbf = svm_rbf.predict(X_test)\n",
    "        e_svm_rbf = float(np.sum((ypred_svm_rbf[i] != Y_test[i]) for i in range(0,ts)))\n",
    "        l.append((e_svm_rbf/ts))\n",
    "    plt.plot(range(0,250, step), l)\n",
    "    plt.xlabel('gamma')\n",
    "    plt.ylabel('classification percent error')\n",
    "    minindex = l.index(min(l))\n",
    "    #tx = plt.xticks(range(0,250, step))\n",
    "    print \"optimal gamma is:\", step*minindex\n",
    "    return step*minindex"
   ]
  },
  {
   "cell_type": "code",
   "execution_count": 12,
   "metadata": {
    "collapsed": false
   },
   "outputs": [],
   "source": [
    "def svmrbf(X_train, Y_train, X_test, Y_test, g, ts): \n",
    "    svm_rbf = svm.SVC(kernel='rbf', gamma=g)\n",
    "    svm_rbf.fit(X_train,Y_train)\n",
    "    \n",
    "    ypred_svm_rbf = svm_rbf.predict(X_test)\n",
    "    \n",
    "    e_svm_rbf = np.sum((ypred_svm_rbf[i] != Y_test[i]) for i in range(0,ts))\n",
    "    perrorsvmrbf = float(e_svm_rbf)/ts\n",
    "    return perrorsvmrbf"
   ]
  },
  {
   "cell_type": "code",
   "execution_count": null,
   "metadata": {
    "collapsed": true
   },
   "outputs": [],
   "source": []
  },
  {
   "cell_type": "code",
   "execution_count": null,
   "metadata": {
    "collapsed": false
   },
   "outputs": [],
   "source": []
  },
  {
   "cell_type": "markdown",
   "metadata": {},
   "source": [
    "# Run to Optimize the size of the train data"
   ]
  },
  {
   "cell_type": "code",
   "execution_count": 13,
   "metadata": {
    "collapsed": false,
    "scrolled": false
   },
   "outputs": [
    {
     "name": "stdout",
     "output_type": "stream",
     "text": [
      "percent of data in the training set is: 10.0\n",
      "optimal gamma is: 20\n",
      "percent of data in the training set is: 20.0\n",
      "optimal gamma is: 40\n",
      "percent of data in the training set is: 30.0\n",
      "optimal gamma is: 80\n",
      "percent of data in the training set is: 40.0\n",
      "optimal gamma is: 90\n",
      "percent of data in the training set is: 50.0\n",
      "optimal gamma is: 110\n",
      "percent of data in the training set is: 60.0\n",
      "optimal gamma is: 110\n",
      "percent of data in the training set is: 70.0\n",
      "optimal gamma is: 140\n",
      "percent of data in the training set is: 80.0\n",
      "optimal gamma is: 110\n",
      "percent of data in the training set is: 90.0\n",
      "optimal gamma is: 240\n"
     ]
    },
    {
     "data": {
      "image/png": "[encoded data removed]",
      "text/plain": [
       "<matplotlib.figure.Figure at 0x1165cf190>"
      ]
     },
     "metadata": {},
     "output_type": "display_data"
    }
   ],
   "source": [
    "nb = []\n",
    "svml = []\n",
    "svmrbf = []\n",
    "\n",
    "splits = [0.1, 0.2, 0.3, 0.4, 0.5, 0.6, 0.7, 0.8, 0.9]\n",
    "for i in splits:\n",
    "    print \"percent of data in the training set is:\", i*100\n",
    "    X_train, X_test, Y_train, Y_test = train_test_split(X, Y, train_size=i, random_state=123)\n",
    "    ts = Y_test.shape[0]\n",
    "    \n",
    "    #run naive bayes with that split and append percent error to the nb array\n",
    "    pen = naive(X_train, Y_train, X_test, Y_test, ts)\n",
    "    nb.append(pen)\n",
    "    \n",
    "    #run svm linear with that split and append percent error to the svml array\n",
    "    #pesl = svml(X_train, Y_train, X_test, Y_test, ts)\n",
    "    svm_linear = svm.SVC(kernel='linear')\n",
    "    svm_linear.fit(X_train,Y_train)\n",
    "\n",
    "    ypred_svm_linear = svm_linear.predict(X_test)\n",
    "\n",
    "    e_svm_linear = np.sum((ypred_svm_linear[i] != Y_test[i]) for i in range(0,ts))\n",
    "    pesl = float(e_svm_linear)/ts\n",
    "    svml.append(pesl)\n",
    "    \n",
    "    #choose gamma\n",
    "    step = 10\n",
    "    g = gammachoice(X_train, Y_train, X_test, Y_test, ts, step)\n",
    "    plt.legend(splits, bbox_to_anchor=(1.25, 1.0))\n",
    "    \n",
    "    #run svm rbf with that split and optimal gamma and append percent error to the svmrbf array\n",
    "    #perbf = svmrbf(X_train, Y_train, X_test, Y_test, g, ts)\n",
    "    svm_rbf = svm.SVC(kernel='rbf', gamma=g)\n",
    "    svm_rbf.fit(X_train,Y_train)\n",
    "    \n",
    "    ypred_svm_rbf = svm_rbf.predict(X_test)\n",
    "    \n",
    "    e_svm_rbf = np.sum((ypred_svm_rbf[i] != Y_test[i]) for i in range(0,ts))\n",
    "    perbf = float(e_svm_rbf)/ts\n",
    "    svmrbf.append(perbf)\n",
    "    "
   ]
  },
  {
   "cell_type": "code",
   "execution_count": 14,
   "metadata": {
    "collapsed": false
   },
   "outputs": [
    {
     "data": {
      "image/png": "[encoded data removed]",
      "text/plain": [
       "<matplotlib.figure.Figure at 0x1165cfd10>"
      ]
     },
     "metadata": {},
     "output_type": "display_data"
    }
   ],
   "source": [
    "plt.plot(splits, nb)\n",
    "plt.plot(splits, svml)\n",
    "plt.plot(splits, svmrbf)\n",
    "plt.legend(['Naive Bayes', 'SVM Linear', 'SVM RBF'], loc='lower left')\n",
    "plt.xlabel('Percentage of Data in Training Set')\n",
    "plt.ylabel('Classification Percent Error')\n",
    "plt.show()"
   ]
  },
  {
   "cell_type": "code",
   "execution_count": 16,
   "metadata": {
    "collapsed": false
   },
   "outputs": [
    {
     "name": "stdout",
     "output_type": "stream",
     "text": [
      "Naive Bayes Percent Error in Classification  0.548717948718\n",
      "Linear SVM Percent Error in Classification  0.469230769231\n",
      "RBF SVM Percent Error in Classification  0.358461538462\n"
     ]
    }
   ],
   "source": [
    "X_train, X_test, Y_train, Y_test = train_test_split(X, Y, train_size=.7, random_state=123)\n",
    "ts = Y_test.shape[0]\n",
    "\n",
    "#run naive bayes with that split and append percent error to the nb array\n",
    "pen = naive(X_train, Y_train, X_test, Y_test, ts)\n",
    "print \"Naive Bayes Percent Error in Classification \", pen\n",
    "\n",
    "#run svm linear with that split and append percent error to the svml array\n",
    "#pesl = svml(X_train, Y_train, X_test, Y_test, ts)\n",
    "svm_linear = svm.SVC(kernel='linear')\n",
    "svm_linear.fit(X_train,Y_train)\n",
    "\n",
    "ypred_svm_linear = svm_linear.predict(X_test)\n",
    "\n",
    "e_svm_linear = np.sum((ypred_svm_linear[i] != Y_test[i]) for i in range(0,ts))\n",
    "pesl = float(e_svm_linear)/ts\n",
    "print \"Linear SVM Percent Error in Classification \", pesl\n",
    "\n",
    "#run svm rbf with that split and optimal gamma and append percent error to the svmrbf array\n",
    "#perbf = svmrbf(X_train, Y_train, X_test, Y_test, g, ts)\n",
    "svm_rbf = svm.SVC(kernel='rbf', gamma=140)\n",
    "svm_rbf.fit(X_train,Y_train)\n",
    "\n",
    "ypred_svm_rbf = svm_rbf.predict(X_test)\n",
    "\n",
    "e_svm_rbf = np.sum((ypred_svm_rbf[i] != Y_test[i]) for i in range(0,ts))\n",
    "perbf = float(e_svm_rbf)/ts\n",
    "print \"RBF SVM Percent Error in Classification \", perbf"
   ]
  },
  {
   "cell_type": "code",
   "execution_count": null,
   "metadata": {
    "collapsed": true
   },
   "outputs": [],
   "source": []
  }
 ],
 "metadata": {
  "kernelspec": {
   "display_name": "Python 2",
   "language": "python",
   "name": "python2"
  },
  "language_info": {
   "codemirror_mode": {
    "name": "ipython",
    "version": 2
   },
   "file_extension": ".py",
   "mimetype": "text/x-python",
   "name": "python",
   "nbconvert_exporter": "python",
   "pygments_lexer": "ipython2",
   "version": "2.7.13"
  }
 },
 "nbformat": 4,
 "nbformat_minor": 1
}
